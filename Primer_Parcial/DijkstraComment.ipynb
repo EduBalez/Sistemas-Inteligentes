{
 "cells": [
  {
   "cell_type": "markdown",
   "metadata": {
    "colab_type": "text",
    "id": "wGtt7OnN6K5a"
   },
   "source": [
    "**Dijkstra**\n",
    "\n",
    "Used to find the shorthest path in a directed graph\n",
    "\n",
    "Greedy algorithm.\n",
    "\n",
    "This example uses:\n",
    "*  cv2  \n",
    "*  heapq\n",
    "\n",
    "\n",
    "\n",
    "import cv2\n",
    "import matplotlib.pyplot as plt\n",
    "import numpy as np"
   ]
  },
  {
   "cell_type": "markdown",
   "metadata": {},
   "source": [
    "1.   Eduardo Badillo Á.: https://github.com/EduBalez/Sistemas-Inteligentes \n",
    "2.   Roberto Gutierrez : https://github.com/axgtz/Sistemas-Inteligentes        \n",
    "3.   Emilio Hernández: https://github.com/emihdz97/sistemas-inteligentes"
   ]
  },
  {
   "cell_type": "code",
   "execution_count": null,
   "metadata": {
    "colab": {},
    "colab_type": "code",
    "id": "mKIqnF_Gan4i"
   },
   "outputs": [],
   "source": [
    "import heapq\n",
    "import cv2\n",
    "import matplotlib.pyplot as plt\n",
    "import numpy as np"
   ]
  },
  {
   "cell_type": "code",
   "execution_count": null,
   "metadata": {
    "colab": {},
    "colab_type": "code",
    "id": "yrHWYibk8kRM"
   },
   "outputs": [],
   "source": [
    "#Helper functions and classes\n",
    "class Vertex:\n",
    "    def __init__(self,x_coord,y_coord): #New node constructor  \n",
    "        self.x=x_coord\n",
    "        self.y=y_coord\n",
    "        self.d=float('inf') #distance from source\n",
    "        self.parent_x=None\n",
    "        self.parent_y=None\n",
    "        self.processed=False\n",
    "        self.index_in_queue=None\n",
    "\n",
    "#Return neighbor directly above, below, right, and left\n",
    "def get_neighbors(mat,r,c):\n",
    "    shape=mat.shape\n",
    "    neighbors=[]\n",
    "    #ensure neighbors are within image boundaries\n",
    "    if r > 0 and not mat[r-1][c].processed:\n",
    "         neighbors.append(mat[r-1][c])\n",
    "    if r < shape[0] - 1 and not mat[r+1][c].processed:\n",
    "            neighbors.append(mat[r+1][c])\n",
    "    if c > 0 and not mat[r][c-1].processed:\n",
    "        neighbors.append(mat[r][c-1])\n",
    "    if c < shape[1] - 1 and not mat[r][c+1].processed:\n",
    "            neighbors.append(mat[r][c+1])\n",
    "    return neighbors\n",
    "\n",
    "# Receives the position of the starter node in the heap\n",
    "# Swaps the positions of the vertices until starter node is first\n",
    "def bubble_up(queue, index):\n",
    "    if index <= 0:\n",
    "        return queue\n",
    "    p_index=(index-1)//2\n",
    "    if queue[index].d < queue[p_index].d:\n",
    "            queue[index], queue[p_index]=queue[p_index], queue[index]\n",
    "            queue[index].index_in_queue=index\n",
    "            queue[p_index].index_in_queue=p_index\n",
    "            quque = bubble_up(queue, p_index)\n",
    "    return queue\n",
    "    \n",
    "def bubble_down(queue, index):\n",
    "    length=len(queue)\n",
    "    lc_index=2*index+1\n",
    "    rc_index=lc_index+1\n",
    "    if lc_index >= length:\n",
    "        return queue\n",
    "    if lc_index < length and rc_index >= length: #just left child\n",
    "        if queue[index].d > queue[lc_index].d:\n",
    "            queue[index], queue[lc_index]=queue[lc_index], queue[index]\n",
    "            queue[index].index_in_queue=index\n",
    "            queue[lc_index].index_in_queue=lc_index\n",
    "            queue = bubble_down(queue, lc_index)\n",
    "    else:\n",
    "        small = lc_index\n",
    "        if queue[lc_index].d > queue[rc_index].d:\n",
    "            small = rc_index\n",
    "        if queue[small].d < queue[index].d:\n",
    "            queue[index],queue[small]=queue[small],queue[index]\n",
    "            queue[index].index_in_queue=index\n",
    "            queue[small].index_in_queue=small\n",
    "            queue = bubble_down(queue, small)\n",
    "    return queue\n",
    "\n",
    "# adding 0.1 to avoid any 0 distance (euclidean squared distance)\n",
    "def get_distance(img,u,v):\n",
    "    return 0.1 + (float(img[v][0])-float(img[u][0]))**2+(float(img[v][1])-float(img[u][1]))**2+(float(img[v][2])-float(img[u][2]))**2\n",
    "\n",
    "# Draw correct line\n",
    "def drawPath(img,path, thickness=2):\n",
    "    '''path is a list of (x,y) tuples'''\n",
    "    x0,y0=path[0]\n",
    "    for vertex in path[1:]:\n",
    "        x1,y1=vertex\n",
    "        # Draw line \n",
    "        cv2.line(img,(x0,y0),(x1,y1),(255,0,0),thickness)\n",
    "        x0,y0=vertex"
   ]
  },
  {
   "cell_type": "markdown",
   "metadata": {
    "colab_type": "text",
    "id": "AZCMsgImBlky"
   },
   "source": [
    "Create heap array to keep track of unprocessed nodes. We get coordinates for start and end vertices. Then we get the dimensions of the image object and create an empty matrix with those dimensions. Then we create a vertex out of each pixel in the image and store it in the matrix. We update the properties of the vertex with its index in the unprocessed queue and store the vertex itself in the heap.\n"
   ]
  },
  {
   "cell_type": "code",
   "execution_count": null,
   "metadata": {
    "colab": {},
    "colab_type": "code",
    "id": "D8rSRX3GD2Sj"
   },
   "outputs": [],
   "source": [
    "def find_shortest_path(img,src,dst):\n",
    "    pq=[] # min-heap priority queue to keep track of unprocessed nodes\n",
    "    \n",
    "    # Get coordinates for start and end vertex\n",
    "    source_x=src[0]\n",
    "    source_y=src[1]\n",
    "    dest_x=dst[0]\n",
    "    dest_y=dst[1]\n",
    "\n",
    "    # Get dimensions of the img object\n",
    "    imagerows,imagecols=img.shape[0],img.shape[1]\n",
    "\n",
    "    # Return a new, empty matrix object with the img dimensions\n",
    "    matrix = np.full((imagerows, imagecols), None) #access by matrix[row][col]\n",
    "\n",
    "    # Matrix is equvialent to all the unvisited nodes\n",
    "    # Loop throught the whole matrix\n",
    "    for r in range(imagerows):\n",
    "        for c in range(imagecols):\n",
    "          # Create a new vertex obj with img coordinates\n",
    "          # & map it to matrix\n",
    "            matrix[r][c]=Vertex(c,r) \n",
    "\n",
    "          # Add to the vertex the position in the queue\n",
    "            matrix[r][c].index_in_queue=len(pq)\n",
    "\n",
    "          # Append the vertex to the unprocessed nodes queue\n",
    "            pq.append(matrix[r][c])\n",
    "    "
   ]
  },
  {
   "cell_type": "markdown",
   "metadata": {
    "colab_type": "text",
    "id": "f5KuId5HD8xk"
   },
   "source": [
    "Every vertex has a property that keeps track of the distance from the source to itself, that is why we update the origin vertex in the matrix to a distance of 0. We then make its position in the heap to be in the front of the queue and reorder the queue accordingly. Then the dijsktra component starts, we begin to process the nodes stored in the heap, we store the vertex on the local variable and delete it from the queue, the queue gets reordered and the neighbors of the vertex are found. They each get a new distance to the source vertex and a new parent vertex in their properties. In each iteration the queue it's getting reordered."
   ]
  },
  {
   "cell_type": "code",
   "execution_count": null,
   "metadata": {
    "colab": {},
    "colab_type": "code",
    "id": "Avm_-Er48o6i"
   },
   "outputs": [],
   "source": [
    "\n",
    "    #### STILL INSIDE THE FUNCTION\n",
    "    # Set source distance value to 0, since it's the starting node\n",
    "    matrix[source_y][source_x].d=0\n",
    "    \n",
    "    \n",
    "    # Reorders the heap until the first position is the starting vertex\n",
    "    pq=bubble_up(pq, matrix[source_y][source_x].index_in_queue)\n",
    "    \n",
    "    # Assign distance values to all pixel vertices in the maze\n",
    "    while len(pq) > 0:\n",
    "        # get curreent/origin vertex in heap\n",
    "        u=pq[0]\n",
    "        \n",
    "        # change processed status\n",
    "        u.processed=True\n",
    "\n",
    "        # set next vertex in heap as origin/current vertex\n",
    "        pq[0]=pq[-1]\n",
    "        pq[0].index_in_queue=0\n",
    "        \n",
    "        # delete from heap the previous origin/current vertex\n",
    "        pq.pop()\n",
    "        pq=bubble_down(pq,0)\n",
    "\n",
    "        # get list of neighbors of current vertex\n",
    "        neighbors = get_neighbors(matrix,u.y,u.x)\n",
    "\n",
    "        \n",
    "        # go through all the neighbours\n",
    "        for v in neighbors:\n",
    "\n",
    "            # get euclidean distance from current vertex to neighbor\n",
    "            dist=get_distance(img,(u.y,u.x),(v.y,v.x))\n",
    "\n",
    "            # DIJSKTRA PART \n",
    "            # If the distance calculated is shorter than the \n",
    "            # neighbor's distance assign that new distance length\n",
    "            # to neighbor \n",
    "            # assign neighbor's parent the current vertex and reorder\n",
    "            # the heap vector\n",
    "            if u.d + dist < v.d:\n",
    "                v.d = u.d+dist\n",
    "                v.parent_x=u.x\n",
    "                v.parent_y=u.y\n",
    "                idx=v.index_in_queue\n",
    "                pq=bubble_down(pq,idx)\n",
    "                pq=bubble_up(pq,idx)\n",
    "\n",
    "   "
   ]
  },
  {
   "cell_type": "markdown",
   "metadata": {
    "colab_type": "text",
    "id": "LuS0nR4nHJ7i"
   },
   "source": [
    "Finally we build a traversed path starting from destination coordinates to origin coordinates. We can retrace our steps thanks to the parent property in each vertex which we updated when processing the queue. We append each parent of the vertices until the origin vertex is arrived and we return the result."
   ]
  },
  {
   "cell_type": "code",
   "execution_count": null,
   "metadata": {
    "colab": {},
    "colab_type": "code",
    "id": "gTVTScMcHEGs"
   },
   "outputs": [],
   "source": [
    " ##### STILL INSIDE THE FUNCTION\n",
    " # Appends to array all visiting vertices\n",
    "    # until the desination vertex is reached                         \n",
    "    path=[]\n",
    "    iter_v=matrix[dest_y][dest_x]\n",
    "    path.append((dest_x,dest_y))\n",
    "    while(iter_v.y!=source_y or iter_v.x!=source_x):\n",
    "        path.append((iter_v.x,iter_v.y))\n",
    "        iter_v=matrix[iter_v.parent_y][iter_v.parent_x]\n",
    "\n",
    "    # Lastly, append the beginning vertex \n",
    "    # to path and return \n",
    "    path.append((source_x,source_y))\n",
    "    return path"
   ]
  }
 ],
 "metadata": {
  "colab": {
   "collapsed_sections": [],
   "name": "Dijkstras.ipynb",
   "provenance": []
  },
  "kernelspec": {
   "display_name": "Python 3",
   "language": "python",
   "name": "python3"
  },
  "language_info": {
   "codemirror_mode": {
    "name": "ipython",
    "version": 3
   },
   "file_extension": ".py",
   "mimetype": "text/x-python",
   "name": "python",
   "nbconvert_exporter": "python",
   "pygments_lexer": "ipython3",
   "version": "3.7.0"
  }
 },
 "nbformat": 4,
 "nbformat_minor": 1
}
